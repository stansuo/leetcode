{
 "cells": [
  {
   "cell_type": "code",
   "execution_count": null,
   "metadata": {},
   "outputs": [],
   "source": [
    "nested = [['dog', 'cat', 'horse'], ['frog', 'turtle', 'snake', 'gecko'], ['hamster', 'gerbil', 'rat', 'ferret']]"
   ]
  },
  {
   "cell_type": "code",
   "execution_count": null,
   "metadata": {},
   "outputs": [],
   "source": [
    "nested[1][2]"
   ]
  },
  {
   "cell_type": "code",
   "execution_count": null,
   "metadata": {},
   "outputs": [],
   "source": [
    "\n",
    "lst = [['apple', 'orange', 'banana'], [5, 6, 7, 8, 9.9, 10], ['green', 'yellow', 'purple', 'red']]\n",
    "\n",
    "#Test to see if 'yellow' is in the third list of lst. Save to variable ``yellow``\n",
    "yellow = 'yellow' in lst[2]\n",
    "\n",
    "#Test to see if 4 is in the second list of lst. Save to variable ``four``\n",
    "four = 4 in lst[1]\n",
    "\n",
    "#Test to see if 'orange' is in the first element of lst. Save to variable ``orange``\n",
    "orange = 'orange' in lst[0]"
   ]
  },
  {
   "cell_type": "code",
   "execution_count": null,
   "metadata": {},
   "outputs": [],
   "source": [
    "'orange' in lst[0]"
   ]
  },
  {
   "cell_type": "code",
   "execution_count": null,
   "metadata": {},
   "outputs": [],
   "source": [
    "\n",
    "L = [[5, 8, 7], ['hello', 'hi', 'hola'], [6.6, 1.54, 3.99], ['small', 'large']]\n",
    "\n",
    "# Test if 'hola' is in the list L. Save to variable name test1\n",
    "test1 = 'hola' in L[1]\n",
    "# Test if [5, 8, 7] is in the list L. Save to variable name test2\n",
    "test2 = [5, 8, 7] in L\n",
    "# Test if 6.6 is in the third element of list L. Save to variable name test3\n",
    "test3 = 6.6 in L[2]\n"
   ]
  },
  {
   "cell_type": "code",
   "execution_count": null,
   "metadata": {},
   "outputs": [],
   "source": [
    "\n",
    "nested = {'data': ['finding', 23, ['exercises', 'hangout', 34]], 'window': ['part', 'whole', [], 'sum', ['math', 'calculus', 'algebra', 'geometry', 'statistics',['physics', 'chemistry', 'biology']]]}\n",
    "\n",
    "# Check to see if the string data is a key in nested, if it is, assign True to the variable data, otherwise assign False.\n",
    "data = ('data' in nested.keys())\n",
    "# Check to see if the integer 24 is in the value of the key data, if it is then assign to the variable twentyfour the value of True, otherwise False.\n",
    "twentyfour = (24 in nested['data'])\n",
    "# Check to see that the string 'whole' is not in the value of the key window. If it's not, then assign to the variable whole the value of True, otherwise False.\n",
    "whole = ('whole' not in nested['window'])\n",
    "# Check to see if the string 'physics' is a key in the dictionary nested. If it is, assign to the variable physics, the value of True, otherwise False.\n",
    "physics = ('physics' in nested.keys())\n",
    "\n"
   ]
  },
  {
   "cell_type": "code",
   "execution_count": null,
   "metadata": {},
   "outputs": [],
   "source": [
    "'whole' not in nested['window']"
   ]
  },
  {
   "cell_type": "code",
   "execution_count": null,
   "metadata": {},
   "outputs": [],
   "source": [
    "nested"
   ]
  },
  {
   "cell_type": "code",
   "execution_count": null,
   "metadata": {},
   "outputs": [],
   "source": [
    "nested_d = {'Beijing':{'China':51, 'USA':36, 'Russia':22, 'Great Britain':19}, 'London':{'USA':46, 'China':38, 'Great Britain':29, 'Russia':22}, 'Rio':{'USA':35, 'Great Britain':22, 'China':20, 'Germany':13}}"
   ]
  },
  {
   "cell_type": "code",
   "execution_count": null,
   "metadata": {},
   "outputs": [],
   "source": [
    "nested_d"
   ]
  },
  {
   "cell_type": "code",
   "execution_count": null,
   "metadata": {},
   "outputs": [],
   "source": [
    "nested_d['London']['Great Britain']"
   ]
  },
  {
   "cell_type": "code",
   "execution_count": null,
   "metadata": {},
   "outputs": [],
   "source": [
    "\n",
    "sports = {'swimming': ['butterfly', 'breaststroke', 'backstroke', 'freestyle'], 'diving': ['springboard', 'platform', 'synchronized'], 'track': ['sprint', 'distance', 'jumps', 'throws'], 'gymnastics': {'women':['vault', 'floor', 'uneven bars', 'balance beam'], 'men': ['vault', 'parallel bars', 'floor', 'rings']}}\n",
    "\n",
    "# Assign the string 'backstroke' to the name v1\n",
    "v1 = sports['swimming'][2]\n",
    "# Assign the string 'platform' to the name v2\n",
    "v2 = sports['diving'][1]\n",
    "# Assign the list ['vault', 'floor', 'uneven bars', 'balance beam'] to the name v3\n",
    "v3 = sports['gymnastics']['women']\n",
    "# Assign the string 'rings' to the name v4\n",
    "v4 = sports['gymnastics']['men'][3]"
   ]
  },
  {
   "cell_type": "code",
   "execution_count": null,
   "metadata": {},
   "outputs": [],
   "source": [
    "sports['gymnastics']['men'][3]"
   ]
  },
  {
   "cell_type": "code",
   "execution_count": null,
   "metadata": {},
   "outputs": [],
   "source": [
    "nested_d = {'Beijing':{'China':51, 'USA':36, 'Russia':22, 'Great Britain':19}, 'London':{'USA':46, 'China':38, 'Great Britain':29, 'Russia':22}, 'Rio':{'USA':35, 'Great Britain':22, 'China':20, 'Germany':13}}\n",
    "\n",
    "US_count = [v['USA'] for v in nested_d.values()]\n",
    "US_count"
   ]
  },
  {
   "cell_type": "code",
   "execution_count": null,
   "metadata": {},
   "outputs": [],
   "source": [
    "l_of_l = [['purple', 'mauve', 'blue'], ['red', 'maroon', 'blood orange', 'crimson'], ['sea green', 'cornflower', 'lavender', 'indigo'], ['yellow', 'amarillo', 'mac n cheese', 'golden rod']]\n",
    "l_of_l"
   ]
  },
  {
   "cell_type": "code",
   "execution_count": null,
   "metadata": {},
   "outputs": [],
   "source": [
    "[l[2] for l in l_of_l]"
   ]
  },
  {
   "cell_type": "code",
   "execution_count": null,
   "metadata": {},
   "outputs": [],
   "source": [
    "athletes = [['Phelps', 'Lochte', 'Schooling', 'Ledecky', 'Franklin'], ['Felix', 'Bolt', 'Gardner', 'Eaton'], ['Biles', 'Douglas', 'Hamm', 'Raisman', 'Mikulak', 'Dalton']]\n",
    "athletes"
   ]
  },
  {
   "cell_type": "code",
   "execution_count": null,
   "metadata": {},
   "outputs": [],
   "source": [
    "t = []\n",
    "other = []\n",
    "for lst in athletes:\n",
    "    for name in lst:\n",
    "        if 't' in name:\n",
    "            t.append(name)\n",
    "        else:\n",
    "            other.append(name)\n",
    "print(t)\n",
    "print(other)"
   ]
  },
  {
   "cell_type": "code",
   "execution_count": null,
   "metadata": {},
   "outputs": [],
   "source": [
    "import json\n",
    "entertainment = \"\"\"[{\"Library Data\": {\"count\": 3500, \"rows\": 10, \"locations\": 3}}, {\"Movie Theater Data\": {\"count\": 8, \"rows\": 25, \"locations\": 2}}]\"\"\""
   ]
  },
  {
   "cell_type": "code",
   "execution_count": null,
   "metadata": {},
   "outputs": [],
   "source": [
    "json.loads(entertainment)"
   ]
  },
  {
   "cell_type": "code",
   "execution_count": 3,
   "metadata": {},
   "outputs": [],
   "source": [
    "l1 = ['left', 'up', 'front']\n",
    "l2 = ['right', 'down', 'back']\n",
    "opposites = [(l1, l2) for (l1, l2) in zip(l1, l2) if (len(l1)>3 and len(l2)>3)]"
   ]
  },
  {
   "cell_type": "code",
   "execution_count": 36,
   "metadata": {},
   "outputs": [
    {
     "name": "stdout",
     "output_type": "stream",
     "text": [
      "('left', 'right')\n",
      "('front', 'back')\n"
     ]
    }
   ],
   "source": [
    "l1 = ['left', 'up', 'front']\n",
    "l2 = ['right', 'down', 'back']\n",
    "\n",
    "# list(zip(l1, l2))\n",
    "\n",
    "# number_list = range(-5, 5)\n",
    "# less_than_zero = list(filter(lambda x: x < 0, number_list))\n",
    "# print(less_than_zero)\n",
    "\n",
    "opposites = filter(lambda x: len(x[0])>3 and len(x[1])>3 , list(zip(l1, l2)))\n",
    "\n",
    "for opp in opposites:\n",
    "    print(opp)"
   ]
  },
  {
   "cell_type": "code",
   "execution_count": 34,
   "metadata": {},
   "outputs": [
    {
     "data": {
      "text/plain": [
       "[('left', 'right'), ('up', 'down'), ('front', 'back')]"
      ]
     },
     "execution_count": 34,
     "metadata": {},
     "output_type": "execute_result"
    }
   ],
   "source": [
    "list(zip(l1, l2))"
   ]
  },
  {
   "cell_type": "code",
   "execution_count": 38,
   "metadata": {},
   "outputs": [
    {
     "ename": "NameError",
     "evalue": "name 'upper' is not defined",
     "output_type": "error",
     "traceback": [
      "\u001b[1;31m---------------------------------------------------------------------------\u001b[0m",
      "\u001b[1;31mNameError\u001b[0m                                 Traceback (most recent call last)",
      "\u001b[1;32m<ipython-input-38-0369ff253f3b>\u001b[0m in \u001b[0;36m<module>\u001b[1;34m\u001b[0m\n\u001b[0;32m      1\u001b[0m \u001b[0mabbrevs\u001b[0m \u001b[1;33m=\u001b[0m \u001b[1;33m[\u001b[0m\u001b[1;34m\"usa\"\u001b[0m\u001b[1;33m,\u001b[0m \u001b[1;34m\"esp\"\u001b[0m\u001b[1;33m,\u001b[0m \u001b[1;34m\"chn\"\u001b[0m\u001b[1;33m,\u001b[0m \u001b[1;34m\"jpn\"\u001b[0m\u001b[1;33m,\u001b[0m \u001b[1;34m\"mex\"\u001b[0m\u001b[1;33m,\u001b[0m \u001b[1;34m\"can\"\u001b[0m\u001b[1;33m,\u001b[0m \u001b[1;34m\"rus\"\u001b[0m\u001b[1;33m,\u001b[0m \u001b[1;34m\"rsa\"\u001b[0m\u001b[1;33m,\u001b[0m \u001b[1;34m\"jam\"\u001b[0m\u001b[1;33m]\u001b[0m\u001b[1;33m\u001b[0m\u001b[1;33m\u001b[0m\u001b[0m\n\u001b[0;32m      2\u001b[0m \u001b[1;33m\u001b[0m\u001b[0m\n\u001b[1;32m----> 3\u001b[1;33m \u001b[0mabbrevs_upper\u001b[0m \u001b[1;33m=\u001b[0m \u001b[0mmap\u001b[0m\u001b[1;33m(\u001b[0m\u001b[0mupper\u001b[0m\u001b[1;33m(\u001b[0m\u001b[1;33m)\u001b[0m\u001b[1;33m,\u001b[0m \u001b[0mabbrevs\u001b[0m\u001b[1;33m)\u001b[0m\u001b[1;33m\u001b[0m\u001b[1;33m\u001b[0m\u001b[0m\n\u001b[0m",
      "\u001b[1;31mNameError\u001b[0m: name 'upper' is not defined"
     ]
    }
   ],
   "source": [
    "abbrevs = [\"usa\", \"esp\", \"chn\", \"jpn\", \"mex\", \"can\", \"rus\", \"rsa\", \"jam\"]\n",
    "\n",
    "abbrevs_upper = map(upper, abbrevs)"
   ]
  },
  {
   "cell_type": "code",
   "execution_count": null,
   "metadata": {},
   "outputs": [],
   "source": []
  }
 ],
 "metadata": {
  "kernelspec": {
   "display_name": "Python 3",
   "language": "python",
   "name": "python3"
  },
  "language_info": {
   "codemirror_mode": {
    "name": "ipython",
    "version": 3
   },
   "file_extension": ".py",
   "mimetype": "text/x-python",
   "name": "python",
   "nbconvert_exporter": "python",
   "pygments_lexer": "ipython3",
   "version": "3.8.1"
  }
 },
 "nbformat": 4,
 "nbformat_minor": 4
}
