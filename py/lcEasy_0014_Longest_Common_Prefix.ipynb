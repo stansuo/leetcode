{
 "cells": [
  {
   "cell_type": "code",
   "execution_count": 1,
   "metadata": {},
   "outputs": [],
   "source": [
    "class Solution:\n",
    "    def longestCommonPrefix(strs) -> str:\n",
    "        prefix = \"\"\n",
    "        try:\n",
    "            shortest_word = min(strs, key=len)\n",
    "        except:\n",
    "            shortest_word = \"\"\n",
    "        for i in range(len(shortest_word)):\n",
    "            if len(prefix) != i:\n",
    "                break\n",
    "            char = strs[0][i]\n",
    "            for j in range(len(strs)):\n",
    "                if char == strs[j][i]:\n",
    "                    char = strs[j][i]\n",
    "                else:\n",
    "                    break\n",
    "            else:\n",
    "                prefix = prefix + char\n",
    "        return prefix"
   ]
  },
  {
   "cell_type": "code",
   "execution_count": 2,
   "metadata": {},
   "outputs": [],
   "source": [
    "def longestCommonPrefix(strs) -> str:\n",
    "    prefix = \"\"\n",
    "    try:\n",
    "        shortest_word = min(strs, key=len)\n",
    "    except:\n",
    "        shortest_word = \"\"\n",
    "    for i in range(len(shortest_word)):\n",
    "        if len(prefix) != i:\n",
    "            break\n",
    "        char = strs[0][i]\n",
    "        for j in range(len(strs)):\n",
    "            if char == strs[j][i]:\n",
    "                char = strs[j][i]\n",
    "            else:\n",
    "                break\n",
    "        else:\n",
    "            prefix = prefix + char\n",
    "    return prefix"
   ]
  },
  {
   "cell_type": "code",
   "execution_count": 3,
   "metadata": {},
   "outputs": [],
   "source": [
    "input1 = [\"flower\",\"flow\",\"flight\"]"
   ]
  },
  {
   "cell_type": "code",
   "execution_count": 4,
   "metadata": {},
   "outputs": [
    {
     "data": {
      "text/plain": [
       "'fl'"
      ]
     },
     "execution_count": 4,
     "metadata": {},
     "output_type": "execute_result"
    }
   ],
   "source": [
    "longestCommonPrefix(input1)"
   ]
  },
  {
   "cell_type": "code",
   "execution_count": 5,
   "metadata": {},
   "outputs": [],
   "source": [
    "input2 = [\"dog\",\"racecar\",\"car\"]"
   ]
  },
  {
   "cell_type": "code",
   "execution_count": 6,
   "metadata": {},
   "outputs": [
    {
     "data": {
      "text/plain": [
       "''"
      ]
     },
     "execution_count": 6,
     "metadata": {},
     "output_type": "execute_result"
    }
   ],
   "source": [
    "longestCommonPrefix(input2)"
   ]
  },
  {
   "cell_type": "code",
   "execution_count": 7,
   "metadata": {},
   "outputs": [],
   "source": [
    "input3 = []"
   ]
  },
  {
   "cell_type": "code",
   "execution_count": 8,
   "metadata": {},
   "outputs": [
    {
     "data": {
      "text/plain": [
       "''"
      ]
     },
     "execution_count": 8,
     "metadata": {},
     "output_type": "execute_result"
    }
   ],
   "source": [
    "longestCommonPrefix(input3)"
   ]
  },
  {
   "cell_type": "markdown",
   "metadata": {},
   "source": [
    "---"
   ]
  },
  {
   "cell_type": "code",
   "execution_count": 10,
   "metadata": {},
   "outputs": [],
   "source": [
    "def longestCommonPrefix1(strs) -> str:\n",
    "    prefix = \"\"\n",
    "    shortest_word = min(strs, key=len)\n",
    "    for i in range(len(shortest_word)):\n",
    "        if len(prefix) != i:\n",
    "            break\n",
    "        char = strs[0][i]\n",
    "        for j in range(len(strs)):\n",
    "            if char == strs[j][i]:\n",
    "                char = strs[j][i]\n",
    "#                 print(char)\n",
    "            else:\n",
    "                break\n",
    "        else:\n",
    "            prefix = prefix + char\n",
    "#             print(prefix)\n",
    "        return prefix"
   ]
  },
  {
   "cell_type": "code",
   "execution_count": 11,
   "metadata": {},
   "outputs": [],
   "source": [
    "def longestCommonPrefix2(strs) -> str:\n",
    "    prefix = \"\"\n",
    "    shortest_word = min(strs, key=len)\n",
    "    for i in range(len(shortest_word)):\n",
    "        char = strs[0][i]\n",
    "        for j in range(len(strs)):\n",
    "            if char == strs[j][i]:\n",
    "                char = strs[j][i]\n",
    "#                 print(char)\n",
    "            else:\n",
    "                break\n",
    "        else:\n",
    "            prefix = prefix + char\n",
    "#             print(prefix)\n",
    "    return prefix"
   ]
  },
  {
   "cell_type": "code",
   "execution_count": 13,
   "metadata": {},
   "outputs": [
    {
     "name": "stdout",
     "output_type": "stream",
     "text": [
      "3 µs ± 244 ns per loop (mean ± std. dev. of 7 runs, 100000 loops each)\n",
      "6.94 µs ± 482 ns per loop (mean ± std. dev. of 7 runs, 100000 loops each)\n"
     ]
    }
   ],
   "source": [
    "%timeit longestCommonPrefix1(input1)\n",
    "%timeit longestCommonPrefix2(input1)"
   ]
  },
  {
   "cell_type": "code",
   "execution_count": null,
   "metadata": {},
   "outputs": [],
   "source": []
  }
 ],
 "metadata": {
  "kernelspec": {
   "display_name": "Python 3",
   "language": "python",
   "name": "python3"
  },
  "language_info": {
   "codemirror_mode": {
    "name": "ipython",
    "version": 3
   },
   "file_extension": ".py",
   "mimetype": "text/x-python",
   "name": "python",
   "nbconvert_exporter": "python",
   "pygments_lexer": "ipython3",
   "version": "3.8.1"
  }
 },
 "nbformat": 4,
 "nbformat_minor": 4
}
