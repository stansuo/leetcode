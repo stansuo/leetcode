{
 "cells": [
  {
   "cell_type": "code",
   "execution_count": 17,
   "metadata": {},
   "outputs": [],
   "source": [
    "# 0412_Fizz_Buzz\n",
    "from typing import List\n",
    "class Solution:\n",
    "    def fizzBuzz(self, n: int) -> List[str]:\n",
    "        output_list = []\n",
    "        for i in range(1, 16):    \n",
    "            if i % 15 == 0:\n",
    "                output_list.append('FizzBuzz')\n",
    "            elif i % 3 == 0:\n",
    "                output_list.append('Fizz')\n",
    "            elif i % 5 == 0:\n",
    "                output_list.append('Buzz')\n",
    "            else:\n",
    "                output_list.append(f'{i}')\n",
    "        return output_list"
   ]
  },
  {
   "cell_type": "code",
   "execution_count": 19,
   "metadata": {},
   "outputs": [],
   "source": [
    "class Solution:\n",
    "    def fizzBuzz(self, n):\n",
    "        \"\"\"\n",
    "        :type n: int\n",
    "        :rtype: List[str]\n",
    "        \"\"\"\n",
    "        # ans list\n",
    "        ans = []\n",
    "\n",
    "        for num in range(1,n+1):\n",
    "\n",
    "            divisible_by_3 = (num % 3 == 0)\n",
    "            divisible_by_5 = (num % 5 == 0)\n",
    "\n",
    "            num_ans_str = \"\"\n",
    "\n",
    "            if divisible_by_3:\n",
    "                # Divides by 3\n",
    "                num_ans_str += \"Fizz\"\n",
    "            if divisible_by_5:\n",
    "                # Divides by 5\n",
    "                num_ans_str += \"Buzz\"\n",
    "            if not num_ans_str:\n",
    "                # Not divisible by 3 or 5\n",
    "                num_ans_str = str(num)\n",
    "\n",
    "            # Append the current answer str to the ans list\n",
    "            ans.append(num_ans_str)  \n",
    "\n",
    "        return ans"
   ]
  },
  {
   "cell_type": "code",
   "execution_count": 21,
   "metadata": {},
   "outputs": [],
   "source": [
    "# BEST!!\n",
    "class Solution:\n",
    "    def fizzBuzz(self, n):\n",
    "        \"\"\"\n",
    "        :type n: int\n",
    "        :rtype: List[str]\n",
    "        \"\"\"\n",
    "        # ans list\n",
    "        ans = []\n",
    "\n",
    "        # Dictionary to store all fizzbuzz mappings\n",
    "        fizz_buzz_dict = {3 : \"Fizz\", 5 : \"Buzz\"}\n",
    "\n",
    "        for num in range(1,n+1):\n",
    "\n",
    "            num_ans_str = \"\"\n",
    "\n",
    "            for key in fizz_buzz_dict.keys():\n",
    "\n",
    "                # If the num is divisible by key,\n",
    "                # then add the corresponding string mapping to current num_ans_str\n",
    "                if num % key == 0:\n",
    "                    num_ans_str += fizz_buzz_dict[key]\n",
    "\n",
    "            if not num_ans_str:\n",
    "                num_ans_str = str(num)\n",
    "\n",
    "            # Append the current answer str to the ans list\n",
    "            ans.append(num_ans_str)  \n",
    "\n",
    "        return ans"
   ]
  },
  {
   "cell_type": "code",
   "execution_count": 16,
   "metadata": {},
   "outputs": [
    {
     "name": "stdout",
     "output_type": "stream",
     "text": [
      "['1', '2', 'Fizz', '4', 'Buzz', 'Fizz', '7', '8', 'Fizz', 'Buzz', '11', 'Fizz', '13', '14', 'FizzBuzz']\n"
     ]
    }
   ],
   "source": [
    "output_list = []\n",
    "for i in range(1, 16):    \n",
    "    if i % 15 == 0:\n",
    "        output_list.append('FizzBuzz')\n",
    "    elif i % 3 == 0:\n",
    "        output_list.append('Fizz')\n",
    "    elif i % 5 == 0:\n",
    "        output_list.append('Buzz')\n",
    "    else:\n",
    "        output_list.append(f'{i}')\n",
    "\n",
    "print(output_list)"
   ]
  },
  {
   "cell_type": "markdown",
   "metadata": {},
   "source": [
    "---"
   ]
  },
  {
   "cell_type": "markdown",
   "metadata": {},
   "source": [
    "Write a program that outputs the string representation of numbers from 1 to n.\n",
    "\n",
    "But for multiples of three it should output “Fizz” instead of the number and for the multiples of five output “Buzz”. For numbers which are multiples of both three and five output “FizzBuzz”.\n",
    "\n",
    "Example:\n",
    "\n",
    "n = 15,\n",
    "\n",
    "Return:\n",
    "[\n",
    "    \"1\",\n",
    "    \"2\",\n",
    "    \"Fizz\",\n",
    "    \"4\",\n",
    "    \"Buzz\",\n",
    "    \"Fizz\",\n",
    "    \"7\",\n",
    "    \"8\",\n",
    "    \"Fizz\",\n",
    "    \"Buzz\",\n",
    "    \"11\",\n",
    "    \"Fizz\",\n",
    "    \"13\",\n",
    "    \"14\",\n",
    "    \"FizzBuzz\"\n",
    "]"
   ]
  }
 ],
 "metadata": {
  "kernelspec": {
   "display_name": "Python 3",
   "language": "python",
   "name": "python3"
  },
  "language_info": {
   "codemirror_mode": {
    "name": "ipython",
    "version": 3
   },
   "file_extension": ".py",
   "mimetype": "text/x-python",
   "name": "python",
   "nbconvert_exporter": "python",
   "pygments_lexer": "ipython3",
   "version": "3.8.1"
  }
 },
 "nbformat": 4,
 "nbformat_minor": 4
}
