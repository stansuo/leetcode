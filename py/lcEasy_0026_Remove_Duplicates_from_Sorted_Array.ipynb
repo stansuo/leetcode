{
 "cells": [
  {
   "cell_type": "code",
   "execution_count": 115,
   "metadata": {},
   "outputs": [
    {
     "name": "stdout",
     "output_type": "stream",
     "text": [
      "Python 3.8.1\n"
     ]
    }
   ],
   "source": [
    "!python -V"
   ]
  },
  {
   "cell_type": "markdown",
   "metadata": {},
   "source": [
    "---"
   ]
  },
  {
   "cell_type": "code",
   "execution_count": 123,
   "metadata": {},
   "outputs": [],
   "source": [
    "from typing import List\n",
    "class Solution:\n",
    "    def removeDuplicates(self, nums: List[int]) -> int:\n",
    "        dup_index=[]\n",
    "        for i in range(1, len(nums)):\n",
    "            if nums[i] == nums[i -1]:\n",
    "                dup_index.append(i)\n",
    "        for j in range(-1, -len(dup_index)-1, -1):\n",
    "            del nums[dup_index[j]]\n",
    "        return len(nums)"
   ]
  },
  {
   "cell_type": "code",
   "execution_count": 124,
   "metadata": {},
   "outputs": [
    {
     "name": "stdout",
     "output_type": "stream",
     "text": [
      "start testing...\n",
      "Test complete, no issues found\n",
      "This is the finally block\n"
     ]
    }
   ],
   "source": [
    "# class testSolution:\n",
    "\n",
    "print(\"start testing...\")\n",
    "try:\n",
    "    ex1 = Solution()\n",
    "    nums = [1,1,2]\n",
    "    out1 = ex1.removeDuplicates(nums)\n",
    "    assert out1 == 2 \n",
    "\n",
    "    ex2 = Solution()\n",
    "    nums = [0,0,1,1,1,2,2,3,3,4]\n",
    "    out2 = ex2.removeDuplicates(nums)\n",
    "    assert out2 == 5  \n",
    "\n",
    "    ex3 = Solution()\n",
    "    nums = [1]\n",
    "    out3 = ex3.removeDuplicates(nums)\n",
    "    assert out3 == 1\n",
    "except:\n",
    "    print(\"Exception occurred\")\n",
    "    raise\n",
    "else:\n",
    "    print(\"Test complete, no issues found\")\n",
    "finally:\n",
    "    print(\"This is the finally block\")"
   ]
  },
  {
   "cell_type": "markdown",
   "metadata": {},
   "source": [
    "---"
   ]
  },
  {
   "cell_type": "code",
   "execution_count": 125,
   "metadata": {},
   "outputs": [],
   "source": [
    "from typing import List\n",
    "class Solution:\n",
    "    def removeDuplicates(self, nums: List[int]) -> int:\n",
    "        dup_index=[]\n",
    "        for i in range(1, len(nums)):\n",
    "            if nums[i] == nums[i -1]:\n",
    "                dup_index.append(i)\n",
    "        for j in range(-1, -len(dup_index)-1, -1):\n",
    "            del nums[dup_index[j]]\n",
    "        return len(nums)"
   ]
  },
  {
   "cell_type": "code",
   "execution_count": 126,
   "metadata": {},
   "outputs": [],
   "source": [
    "# class testSolution:\n",
    "ex1 = Solution()\n",
    "nums = [1,1,2]\n",
    "out1 = ex1.removeDuplicates(nums)\n",
    "assert out1 == 2 \n",
    "\n",
    "ex2 = Solution()\n",
    "nums = [0,0,1,1,1,2,2,3,3,4]\n",
    "out2 = ex2.removeDuplicates(nums)\n",
    "assert out2 == 5  \n",
    "\n",
    "ex3 = Solution()\n",
    "nums = [1]\n",
    "out3 = ex3.removeDuplicates(nums)\n",
    "assert out3 == 1  "
   ]
  },
  {
   "cell_type": "markdown",
   "metadata": {},
   "source": [
    "---"
   ]
  },
  {
   "cell_type": "code",
   "execution_count": 118,
   "metadata": {},
   "outputs": [],
   "source": [
    "from typing import List\n",
    "def removeDuplicates(nums: List[int]) -> int:\n",
    "    dup_index=[]\n",
    "    for i in range(1, len(nums)):\n",
    "        if nums[i] == nums[i -1]:\n",
    "            dup_index.append(i)\n",
    "    for j in range(-1, -len(dup_index)-1, -1):\n",
    "        del nums[dup_index[j]]\n",
    "    return len(nums)"
   ]
  }
 ],
 "metadata": {
  "kernelspec": {
   "display_name": "Python 3",
   "language": "python",
   "name": "python3"
  },
  "language_info": {
   "codemirror_mode": {
    "name": "ipython",
    "version": 3
   },
   "file_extension": ".py",
   "mimetype": "text/x-python",
   "name": "python",
   "nbconvert_exporter": "python",
   "pygments_lexer": "ipython3",
   "version": "3.8.1"
  }
 },
 "nbformat": 4,
 "nbformat_minor": 4
}
