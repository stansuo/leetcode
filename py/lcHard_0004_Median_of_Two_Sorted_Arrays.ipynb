{
 "cells": [
  {
   "cell_type": "code",
   "execution_count": 3,
   "metadata": {},
   "outputs": [
    {
     "name": "stdout",
     "output_type": "stream",
     "text": [
      "Python 3.8.1\n"
     ]
    }
   ],
   "source": [
    "!python -V"
   ]
  },
  {
   "cell_type": "markdown",
   "metadata": {},
   "source": [
    "---"
   ]
  },
  {
   "cell_type": "code",
   "execution_count": 30,
   "metadata": {},
   "outputs": [],
   "source": [
    "from typing import List\n",
    "class Solution:\n",
    "    def findMedianSortedArrays(self, nums1: List[int], nums2: List[int]) -> float:\n",
    "        nums = nums1 + nums2\n",
    "        nums.sort()\n",
    "        if len(nums) % 2 == 0:\n",
    "            return (nums[(len(nums)//2)] + nums[(len(nums)//2)-1])/2\n",
    "        else:\n",
    "            return nums[(len(nums)-1)//2]"
   ]
  },
  {
   "cell_type": "code",
   "execution_count": 32,
   "metadata": {},
   "outputs": [],
   "source": [
    "# class testSolution:\n",
    "ex1 = Solution()\n",
    "nums1 = [1, 3]\n",
    "nums2 = [2]\n",
    "out1 = ex1.findMedianSortedArrays(nums1, nums2)\n",
    "assert out1 == 2 \n",
    "\n",
    "ex2 = Solution()\n",
    "nums1 = [1, 2]\n",
    "nums2 = [3, 4]\n",
    "out2 = ex2.findMedianSortedArrays(nums1, nums2)\n",
    "assert out2 == 2.5  "
   ]
  },
  {
   "cell_type": "markdown",
   "metadata": {},
   "source": [
    "---"
   ]
  },
  {
   "cell_type": "code",
   "execution_count": 25,
   "metadata": {},
   "outputs": [],
   "source": [
    "from typing import List\n",
    "def findMedianSortedArrays(nums1: List[int], nums2: List[int]) -> float:\n",
    "    nums = nums1 + nums2\n",
    "    nums.sort()\n",
    "    if len(nums) % 2 == 0:\n",
    "        return (nums[(len(nums)//2)] + nums[(len(nums)//2)-1])/2\n",
    "    else:\n",
    "        return nums[(len(nums)-1)//2]"
   ]
  },
  {
   "cell_type": "code",
   "execution_count": 11,
   "metadata": {},
   "outputs": [],
   "source": [
    "nums1 = [5, 7, 9]\n",
    "nums2 = [1, 3]"
   ]
  },
  {
   "cell_type": "code",
   "execution_count": 24,
   "metadata": {},
   "outputs": [
    {
     "data": {
      "text/plain": [
       "5"
      ]
     },
     "execution_count": 24,
     "metadata": {},
     "output_type": "execute_result"
    }
   ],
   "source": [
    "findMedianSortedArrays(nums1,nums2)"
   ]
  },
  {
   "cell_type": "markdown",
   "metadata": {},
   "source": [
    "---"
   ]
  }
 ],
 "metadata": {
  "kernelspec": {
   "display_name": "Python 3",
   "language": "python",
   "name": "python3"
  },
  "language_info": {
   "codemirror_mode": {
    "name": "ipython",
    "version": 3
   },
   "file_extension": ".py",
   "mimetype": "text/x-python",
   "name": "python",
   "nbconvert_exporter": "python",
   "pygments_lexer": "ipython3",
   "version": "3.8.1"
  }
 },
 "nbformat": 4,
 "nbformat_minor": 4
}
