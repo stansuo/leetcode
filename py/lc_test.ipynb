{
 "cells": [
  {
   "cell_type": "markdown",
   "metadata": {},
   "source": [
    "---\n",
    "### 21. Merge Two Sorted Lists\n",
    "You are given the heads of two sorted linked lists list1 and list2.\n",
    "Merge the two lists in a one sorted list. The list should be made by splicing together the nodes of the first two lists.\n",
    "- Input: list1 = [1,2,4], list2 = [1,3,4]; Output: [1,1,2,3,4,4]\n",
    "- Input: list1 = [], list2 = []; Output: []\n",
    "- Input: list1 = [], list2 = [0]; Output: [0]\n",
    "- Constraints:\n",
    "    - The number of nodes in both lists is in the range [0, 50].\n",
    "    - -100 <= Node.val <= 100\n",
    "    - Both list1 and list2 are sorted in non-decreasing order."
   ]
  },
  {
   "cell_type": "code",
   "execution_count": 7,
   "metadata": {},
   "outputs": [],
   "source": [
    "def mergeTwoLists(l1, l2):\n",
    "    return sorted(l1+l2)"
   ]
  },
  {
   "cell_type": "code",
   "execution_count": 8,
   "metadata": {},
   "outputs": [
    {
     "data": {
      "text/plain": [
       "[1, 1, 2, 3, 4, 4]"
      ]
     },
     "execution_count": 8,
     "metadata": {},
     "output_type": "execute_result"
    }
   ],
   "source": [
    "list1 = [1,2,4]\n",
    "list2 = [1,3,4]\n",
    "\n",
    "mergeTwoLists(list1, list2)"
   ]
  },
  {
   "cell_type": "code",
   "execution_count": 9,
   "metadata": {},
   "outputs": [
    {
     "data": {
      "text/plain": [
       "[]"
      ]
     },
     "execution_count": 9,
     "metadata": {},
     "output_type": "execute_result"
    }
   ],
   "source": [
    "list1 = []\n",
    "list2 = []\n",
    "mergeTwoLists(list1, list2)"
   ]
  },
  {
   "cell_type": "code",
   "execution_count": 10,
   "metadata": {},
   "outputs": [
    {
     "data": {
      "text/plain": [
       "[0]"
      ]
     },
     "execution_count": 10,
     "metadata": {},
     "output_type": "execute_result"
    }
   ],
   "source": [
    "list1 = []\n",
    "list2 = [0]\n",
    "mergeTwoLists(list1, list2)"
   ]
  },
  {
   "cell_type": "code",
   "execution_count": 3,
   "metadata": {},
   "outputs": [
    {
     "data": {
      "text/plain": [
       "[1, 1, 2, 3, 4, 4]"
      ]
     },
     "execution_count": 3,
     "metadata": {},
     "output_type": "execute_result"
    }
   ],
   "source": [
    "list1 = [1,2,4]\n",
    "list2 = [1,3,4]\n",
    "# new_list = [1, 1, 2, 3, 4, 4]\n",
    "sorted(list1 + list2)"
   ]
  },
  {
   "cell_type": "code",
   "execution_count": null,
   "metadata": {},
   "outputs": [],
   "source": [
    "# Definition for singly-linked list.\n",
    "# class ListNode:\n",
    "#     def __init__(self, x):\n",
    "#         self.val = x\n",
    "#         self.next = None\n",
    "\n",
    "class Solution:\n",
    "    def mergeTwoLists(self, l1: ListNode, l2: ListNode) -> ListNode:\n",
    "        "
   ]
  },
  {
   "cell_type": "code",
   "execution_count": null,
   "metadata": {},
   "outputs": [],
   "source": []
  },
  {
   "cell_type": "code",
   "execution_count": 17,
   "metadata": {},
   "outputs": [],
   "source": [
    "# 0038_Count_and_Say\n",
    "from typing import List\n",
    "class Solution:\n",
    "    def countAndSay(self, n: int) -> str:"
   ]
  },
  {
   "cell_type": "code",
   "execution_count": 43,
   "metadata": {},
   "outputs": [
    {
     "name": "stdout",
     "output_type": "stream",
     "text": [
      "1\n",
      "1\n",
      "0210211011133110112221101321121113122110121113222110311311222112132113213221103112132123222110111331121113112221121113122113111231133221101113122112311311123112112322211013211321322113311213212322211211131221131211132221232112111312111213322110132113213221121113122123211211131221222112112322211031131122211311123113321112131221123113111231121123222112132113213221133112132123123112111311222112132113311213211221121332211031131122211311123113322112132113212231121113112221121321132122211322212221121123222110111312211312111322212321121113121112131112132112311321322112111312212321121113122122211211232221121321132132211331121321231211121112111211\n",
      "2\n",
      "==========\n"
     ]
    }
   ],
   "source": [
    "result = \"1\"\n",
    "# for i in range(1, 16):\n",
    "#     new_result = \"\"\n",
    "#     num_count = 0\n",
    "for j in range(0, len(result)):\n",
    "    if result[j] == result [j -1]:\n",
    "        num_count += 1\n",
    "    else:\n",
    "        new_result += (str(num_count) + result[j -1])\n",
    "        num_count = 1\n",
    "    print(result[j])\n",
    "    print(result[j-1])\n",
    "    print(new_result)\n",
    "    print(num_count)\n",
    "    print('==========')\n",
    "result = new_result\n",
    "        \n",
    "\n",
    "\n",
    "        \n",
    "        \n",
    "\n",
    "    \n",
    "    \n",
    "    "
   ]
  },
  {
   "cell_type": "markdown",
   "metadata": {},
   "source": [
    "---"
   ]
  },
  {
   "cell_type": "markdown",
   "metadata": {},
   "source": [
    "The count-and-say sequence is the sequence of integers with the first five terms as following:\n",
    "\n",
    "`1.     1`\n",
    "`2.     11`\n",
    "`3.     21`\n",
    "`4.     1211`\n",
    "`5.     111221`\n",
    "1 is read off as \"one 1\" or 11.\n",
    "11 is read off as \"two 1s\" or 21.\n",
    "21 is read off as \"one 2, then one 1\" or 1211.\n",
    "\n",
    "Given an integer n where 1 ≤ n ≤ 30, generate the nth term of the count-and-say sequence. You can do so recursively, in other words from the previous member read off the digits, counting the number of digits in groups of the same digit.\n",
    "\n",
    "Note: Each term of the sequence of integers will be represented as a string."
   ]
  },
  {
   "cell_type": "code",
   "execution_count": null,
   "metadata": {},
   "outputs": [],
   "source": []
  }
 ],
 "metadata": {
  "kernelspec": {
   "display_name": "Python 3",
   "language": "python",
   "name": "python3"
  },
  "language_info": {
   "codemirror_mode": {
    "name": "ipython",
    "version": 3
   },
   "file_extension": ".py",
   "mimetype": "text/x-python",
   "name": "python",
   "nbconvert_exporter": "python",
   "pygments_lexer": "ipython3",
   "version": "3.8.1"
  }
 },
 "nbformat": 4,
 "nbformat_minor": 4
}
